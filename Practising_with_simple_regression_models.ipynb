{
  "cells": [
    {
      "cell_type": "markdown",
      "metadata": {
        "id": "view-in-github",
        "colab_type": "text"
      },
      "source": [
        "<a href=\"https://colab.research.google.com/github/FANTASY000666/Simple-regression-model-practice/blob/main/Practising_with_simple_regression_models.ipynb\" target=\"_parent\"><img src=\"https://colab.research.google.com/assets/colab-badge.svg\" alt=\"Open In Colab\"/></a>"
      ]
    },
    {
      "cell_type": "code",
      "execution_count": null,
      "metadata": {
        "id": "twhvd7XxX2XL"
      },
      "outputs": [],
      "source": [
        "import pandas as pd\n",
        "import numpy as np\n",
        "import tensorflow as tf\n",
        "from matplotlib import pyplot as plt"
      ]
    },
    {
      "cell_type": "markdown",
      "metadata": {
        "id": "QJzONmkFZm6I"
      },
      "source": [
        "Functions that build and train a model\n"
      ]
    },
    {
      "cell_type": "code",
      "execution_count": null,
      "metadata": {
        "colab": {
          "base_uri": "https://localhost:8080/"
        },
        "id": "VnsEfFFFbEW_",
        "outputId": "cf2c81fb-e4a5-4516-adee-4a0f3e109b69"
      },
      "outputs": [
        {
          "output_type": "stream",
          "name": "stdout",
          "text": [
            "Defined build_model and train_model\n"
          ]
        }
      ],
      "source": [
        "# 1. Function that builds a Model\n",
        "def build_model(my_learning_rate):\n",
        "  \"\"\" Create and compile a simple linear regression model \"\"\"\n",
        "  # Most tf.keras models are sequential\n",
        "  # A sequential model contains one or more layers\n",
        "  model = tf.keras.models.Sequential()\n",
        "\n",
        "  # Desribe a topography of the model\n",
        "  # The topography of a simple linear regression model\n",
        "  # Is a single node in a single layer\n",
        "  model.add(tf.keras.layers.Dense(units = 1, input_shape=(1,)))\n",
        "\n",
        "  #compile the model topography into code that\n",
        "  # TensorFlow can efficiently execute. Configure\n",
        "  # Training to minimize the Model's mean squared error.\n",
        "  model.compile(optimizer=tf.keras.optimizers.experimental.RMSprop(learning_rate=my_learning_rate),\n",
        "                loss=\"mean_squared_error\",\n",
        "                metrics=[tf.keras.metrics.RootMeanSquaredError()])\n",
        "  return model\n",
        "\n",
        "def train_model(model, feature, label, epochs, batch_size):\n",
        "  \"\"\" Train the model by feeding it data \"\"\"\n",
        "  # feed the feature value and the label value to the model\n",
        "  # The model will train for the specified number of epochs\n",
        "  # gradually learning how the feature values relate to the label values.\n",
        "\n",
        "  # The fit method returns a History object, which contains information about the training process.\n",
        "  # This includes metrics such as the loss and any specified evaluation metrics\n",
        "  # on both the training and validation sets for each epoch.\n",
        "  # The history object can be used to analyze the training process,\n",
        "  # plot training curves,\n",
        "  # and assess model performance.\n",
        "  # Plot training loss and accuracy\n",
        "  history = model.fit(x=feature,\n",
        "                      y=label,\n",
        "                      batch_size = batch_size,\n",
        "                      epochs = epochs)\n",
        "\n",
        "\n",
        "  # Gather the trained model's weight and bias.\n",
        "  # extracting the trained weights and biases from the model after training.\n",
        "  trained_weight = model.get_weights()[0]\n",
        "  trained_bias = model.get_weights()[1]\n",
        "  # Examining the weights and biases can help in debugging the model. If the model is not learning as expected,\n",
        "  # inspecting the weights might reveal whether certain features are being assigned higher or lower importance.\n",
        "\n",
        "  # The list of epochs is stored separately from the\n",
        "  # rest of history.\n",
        "  # this can be of importance when tracking the model training\n",
        "  epochs = history.epoch\n",
        "\n",
        "  # Gather the history (a snapshot) of each epoch.\n",
        "  # loss and accuracy generated in history are stored in a dataframe hist\n",
        "  hist = pd.DataFrame(history.history)\n",
        "\n",
        "  # Specifically gather the model's root mean\n",
        "  # squared error at each epoch.\n",
        "  # acquiring the mean loss from hist\n",
        "  rmse = hist[\"root_mean_squared_error\"]\n",
        "\n",
        "  return trained_weight, trained_bias, epochs, rmse\n",
        "\n",
        "print(\"Defined build_model and train_model\")\n",
        "\n",
        "\n",
        "\n",
        "\n",
        "\n"
      ]
    },
    {
      "cell_type": "markdown",
      "source": [
        "Define plotting functions\n",
        "We're using a popular Python library called Matplotlib to create the following two plots:\n",
        "\n",
        "1. a plot of the feature values vs. the label values, and a line showing the output of the trained model.\n",
        "2. a loss curve."
      ],
      "metadata": {
        "id": "vlSjS8EWUPLi"
      }
    },
    {
      "cell_type": "code",
      "source": [
        "# @ title defining the plotting functions\n",
        "def plot_the_model(trained_weight, trained_bias, feature, label):\n",
        "  \"\"\" plot the trained model against the trained feature and label. \"\"\"\n",
        "\n",
        "  # label the axes\n",
        "  plt.xlabel(\"feature\")\n",
        "  plt.ylabel(\"label\")\n",
        "\n",
        "  # plot the feature value vs the plot value\n",
        "  plt.scatter(feature, label)\n",
        "\n",
        "  # Create a red line representing the model. The red line starts\n",
        "  # at coordinates (x0, y0) and ends at coordinates (x1, y1)\n",
        "  x0 = 0\n",
        "  y0 = trained_bias\n",
        "  x1 = feature[-1] # the last feature in the set of the array\n",
        "  y1 = trained_bias + (trained_weight * x1)\n",
        "  plt.plot([x0, x1], [y0, y1], c='r') # Matplotlib function to plot a simple red line graph from (x0, y0) to (x1, y1)\n",
        "\n",
        "  # display the scatter plot and the red line.\n",
        "  plt.show()\n",
        "\n",
        "def plot_the_loss_curve(epochs, rmse):\n",
        "  \"\"\" plot the loss curve which shows the loss Vs epoch. \"\"\"\n",
        "\n",
        "  plt.figure()\n",
        "  plt.xlabel(\"Epoch\")\n",
        "  plt.ylabel(\"Root Mean Squared Error\")\n",
        "\n",
        "  plt.plot(epochs, rmse, label=\"Loss\")\n",
        "  plt.legend() # adding a legend t current axes\n",
        "  plt.ylim([rmse.min()*0.97, rmse.max()]) # sets the y-axis limits of the current axes.\n",
        "                                          # Ensures the y axis range covers the entire range of your data.\n",
        "                                          # You can also chose to set the limits of the x-axis\n",
        "  plt.show()\n",
        "\n",
        "print(\"Defined plot_the_model and plot_the_loss_curve functions\")\n"
      ],
      "metadata": {
        "colab": {
          "base_uri": "https://localhost:8080/"
        },
        "id": "7DhYYka7U0Ir",
        "outputId": "ae39f128-05fb-4276-e93f-fa0099c9b697"
      },
      "execution_count": null,
      "outputs": [
        {
          "output_type": "stream",
          "name": "stdout",
          "text": [
            "Defined plot_the_model and plot_the_loss_curve functions\n"
          ]
        }
      ]
    },
    {
      "cell_type": "markdown",
      "source": [
        "Define the Datasets\n",
        "The datasets contains of 12 examples. Each example containing one feature and one label."
      ],
      "metadata": {
        "id": "i9ahPpBscmNX"
      }
    },
    {
      "cell_type": "code",
      "source": [
        "my_feature = ([1.0, 2.0,  3.0,  4.0,  5.0,  6.0,  7.0,  8.0,  9.0, 10.0, 11.0, 12.0])\n",
        "my_label   = ([5.0, 8.8,  9.6, 14.2, 18.8, 19.5, 21.4, 26.8, 28.9, 32.0, 33.8, 38.2])"
      ],
      "metadata": {
        "id": "NdKaCsYpdBtf"
      },
      "execution_count": null,
      "outputs": []
    },
    {
      "cell_type": "markdown",
      "source": [
        "Specyfing the hyperparameters (Learning rate, epochs, batch_size)"
      ],
      "metadata": {
        "id": "7qRA0xO67gmP"
      }
    },
    {
      "cell_type": "code",
      "source": [
        "# @title The following code initializes these parameters and invokes the functions that build and train the model\n",
        "#  An oscillating loss curve strongly suggests that the learning rate is too high.\n",
        "# We adjust the learning rate and number of epochs to make training converge as efficiently as possible.\n",
        "# when to stop adusting the hyperparameters of a model during training :-\n",
        "# when the model starts to perfom as expected\n",
        "# When the loss curve starts to adjust to number of blue dots\n",
        "\n",
        "learning_rate = 0.05 # replace with a floating-point value\n",
        "epochs = 100         # replace with an integer\n",
        "my_batch_size = 1\n",
        "\n",
        "# invoking the function that builds the model\n",
        "my_model = build_model(learning_rate)\n",
        "\n",
        "# calling a function train_model\n",
        "# with various arguments and\n",
        "# capturing the returned values into variables.\n",
        "trained_weight, trained_bias, epochs, rmse = train_model(my_model, my_feature, my_label, epochs, my_batch_size)\n",
        "\n",
        "# invoking the plot_the_model function to plot the model\n",
        "# with parameter shown below\n",
        "plot_the_model(trained_weight, trained_bias, my_feature, my_label)\n",
        "\n",
        "# invoking the plot_the_loss_curve method\n",
        "# with parameters epochs and rmse\n",
        "plot_the_loss_curve(epochs, rmse)"
      ],
      "metadata": {
        "colab": {
          "base_uri": "https://localhost:8080/",
          "height": 1000
        },
        "id": "ZeuSJLGv7wRE",
        "outputId": "f6fd5a1d-6f7e-42ea-ffdb-762c75d1eaa0"
      },
      "execution_count": null,
      "outputs": [
        {
          "output_type": "stream",
          "name": "stdout",
          "text": [
            "Epoch 1/100\n",
            "12/12 [==============================] - 0s 3ms/step - loss: 92.6790 - root_mean_squared_error: 9.6270\n",
            "Epoch 2/100\n",
            "12/12 [==============================] - 0s 2ms/step - loss: 31.7940 - root_mean_squared_error: 5.6386\n",
            "Epoch 3/100\n",
            "12/12 [==============================] - 0s 2ms/step - loss: 8.8487 - root_mean_squared_error: 2.9747\n",
            "Epoch 4/100\n",
            "12/12 [==============================] - 0s 2ms/step - loss: 2.0358 - root_mean_squared_error: 1.4268\n",
            "Epoch 5/100\n",
            "12/12 [==============================] - 0s 2ms/step - loss: 1.0212 - root_mean_squared_error: 1.0106\n",
            "Epoch 6/100\n",
            "12/12 [==============================] - 0s 2ms/step - loss: 1.0749 - root_mean_squared_error: 1.0368\n",
            "Epoch 7/100\n",
            "12/12 [==============================] - 0s 2ms/step - loss: 1.1961 - root_mean_squared_error: 1.0937\n",
            "Epoch 8/100\n",
            "12/12 [==============================] - 0s 2ms/step - loss: 1.0358 - root_mean_squared_error: 1.0178\n",
            "Epoch 9/100\n",
            "12/12 [==============================] - 0s 3ms/step - loss: 1.1566 - root_mean_squared_error: 1.0754\n",
            "Epoch 10/100\n",
            "12/12 [==============================] - 0s 2ms/step - loss: 1.1163 - root_mean_squared_error: 1.0565\n",
            "Epoch 11/100\n",
            "12/12 [==============================] - 0s 2ms/step - loss: 1.2566 - root_mean_squared_error: 1.1210\n",
            "Epoch 12/100\n",
            "12/12 [==============================] - 0s 2ms/step - loss: 1.0839 - root_mean_squared_error: 1.0411\n",
            "Epoch 13/100\n",
            "12/12 [==============================] - 0s 2ms/step - loss: 1.1154 - root_mean_squared_error: 1.0561\n",
            "Epoch 14/100\n",
            "12/12 [==============================] - 0s 2ms/step - loss: 1.2999 - root_mean_squared_error: 1.1401\n",
            "Epoch 15/100\n",
            "12/12 [==============================] - 0s 2ms/step - loss: 1.1824 - root_mean_squared_error: 1.0874\n",
            "Epoch 16/100\n",
            "12/12 [==============================] - 0s 2ms/step - loss: 1.1130 - root_mean_squared_error: 1.0550\n",
            "Epoch 17/100\n",
            "12/12 [==============================] - 0s 2ms/step - loss: 1.1661 - root_mean_squared_error: 1.0799\n",
            "Epoch 18/100\n",
            "12/12 [==============================] - 0s 2ms/step - loss: 1.1671 - root_mean_squared_error: 1.0803\n",
            "Epoch 19/100\n",
            "12/12 [==============================] - 0s 2ms/step - loss: 1.2468 - root_mean_squared_error: 1.1166\n",
            "Epoch 20/100\n",
            "12/12 [==============================] - 0s 3ms/step - loss: 1.0895 - root_mean_squared_error: 1.0438\n",
            "Epoch 21/100\n",
            "12/12 [==============================] - 0s 2ms/step - loss: 1.1783 - root_mean_squared_error: 1.0855\n",
            "Epoch 22/100\n",
            "12/12 [==============================] - 0s 2ms/step - loss: 1.1815 - root_mean_squared_error: 1.0870\n",
            "Epoch 23/100\n",
            "12/12 [==============================] - 0s 2ms/step - loss: 1.2214 - root_mean_squared_error: 1.1052\n",
            "Epoch 24/100\n",
            "12/12 [==============================] - 0s 2ms/step - loss: 0.9484 - root_mean_squared_error: 0.9739\n",
            "Epoch 25/100\n",
            "12/12 [==============================] - 0s 2ms/step - loss: 1.2649 - root_mean_squared_error: 1.1247\n",
            "Epoch 26/100\n",
            "12/12 [==============================] - 0s 2ms/step - loss: 1.1233 - root_mean_squared_error: 1.0599\n",
            "Epoch 27/100\n",
            "12/12 [==============================] - 0s 3ms/step - loss: 1.0570 - root_mean_squared_error: 1.0281\n",
            "Epoch 28/100\n",
            "12/12 [==============================] - 0s 2ms/step - loss: 1.2467 - root_mean_squared_error: 1.1166\n",
            "Epoch 29/100\n",
            "12/12 [==============================] - 0s 2ms/step - loss: 1.1138 - root_mean_squared_error: 1.0554\n",
            "Epoch 30/100\n",
            "12/12 [==============================] - 0s 2ms/step - loss: 1.0534 - root_mean_squared_error: 1.0264\n",
            "Epoch 31/100\n",
            "12/12 [==============================] - 0s 2ms/step - loss: 1.0488 - root_mean_squared_error: 1.0241\n",
            "Epoch 32/100\n",
            "12/12 [==============================] - 0s 2ms/step - loss: 1.1689 - root_mean_squared_error: 1.0812\n",
            "Epoch 33/100\n",
            "12/12 [==============================] - 0s 2ms/step - loss: 1.2492 - root_mean_squared_error: 1.1177\n",
            "Epoch 34/100\n",
            "12/12 [==============================] - 0s 2ms/step - loss: 1.0248 - root_mean_squared_error: 1.0123\n",
            "Epoch 35/100\n",
            "12/12 [==============================] - 0s 2ms/step - loss: 1.1627 - root_mean_squared_error: 1.0783\n",
            "Epoch 36/100\n",
            "12/12 [==============================] - 0s 2ms/step - loss: 1.2538 - root_mean_squared_error: 1.1197\n",
            "Epoch 37/100\n",
            "12/12 [==============================] - 0s 2ms/step - loss: 1.0096 - root_mean_squared_error: 1.0048\n",
            "Epoch 38/100\n",
            "12/12 [==============================] - 0s 2ms/step - loss: 1.2460 - root_mean_squared_error: 1.1163\n",
            "Epoch 39/100\n",
            "12/12 [==============================] - 0s 4ms/step - loss: 1.2328 - root_mean_squared_error: 1.1103\n",
            "Epoch 40/100\n",
            "12/12 [==============================] - 0s 4ms/step - loss: 1.1475 - root_mean_squared_error: 1.0712\n",
            "Epoch 41/100\n",
            "12/12 [==============================] - 0s 4ms/step - loss: 1.1688 - root_mean_squared_error: 1.0811\n",
            "Epoch 42/100\n",
            "12/12 [==============================] - 0s 4ms/step - loss: 1.1834 - root_mean_squared_error: 1.0878\n",
            "Epoch 43/100\n",
            "12/12 [==============================] - 0s 3ms/step - loss: 0.8657 - root_mean_squared_error: 0.9304\n",
            "Epoch 44/100\n",
            "12/12 [==============================] - 0s 3ms/step - loss: 1.3005 - root_mean_squared_error: 1.1404\n",
            "Epoch 45/100\n",
            "12/12 [==============================] - 0s 3ms/step - loss: 1.3157 - root_mean_squared_error: 1.1470\n",
            "Epoch 46/100\n",
            "12/12 [==============================] - 0s 4ms/step - loss: 1.0040 - root_mean_squared_error: 1.0020\n",
            "Epoch 47/100\n",
            "12/12 [==============================] - 0s 4ms/step - loss: 1.1137 - root_mean_squared_error: 1.0553\n",
            "Epoch 48/100\n",
            "12/12 [==============================] - 0s 5ms/step - loss: 1.1555 - root_mean_squared_error: 1.0749\n",
            "Epoch 49/100\n",
            "12/12 [==============================] - 0s 4ms/step - loss: 1.2048 - root_mean_squared_error: 1.0976\n",
            "Epoch 50/100\n",
            "12/12 [==============================] - 0s 3ms/step - loss: 1.0550 - root_mean_squared_error: 1.0271\n",
            "Epoch 51/100\n",
            "12/12 [==============================] - 0s 4ms/step - loss: 1.3157 - root_mean_squared_error: 1.1470\n",
            "Epoch 52/100\n",
            "12/12 [==============================] - 0s 4ms/step - loss: 1.0323 - root_mean_squared_error: 1.0160\n",
            "Epoch 53/100\n",
            "12/12 [==============================] - 0s 2ms/step - loss: 1.1554 - root_mean_squared_error: 1.0749\n",
            "Epoch 54/100\n",
            "12/12 [==============================] - 0s 2ms/step - loss: 1.1018 - root_mean_squared_error: 1.0497\n",
            "Epoch 55/100\n",
            "12/12 [==============================] - 0s 2ms/step - loss: 1.0248 - root_mean_squared_error: 1.0123\n",
            "Epoch 56/100\n",
            "12/12 [==============================] - 0s 2ms/step - loss: 1.2255 - root_mean_squared_error: 1.1070\n",
            "Epoch 57/100\n",
            "12/12 [==============================] - 0s 3ms/step - loss: 1.1735 - root_mean_squared_error: 1.0833\n",
            "Epoch 58/100\n",
            "12/12 [==============================] - 0s 2ms/step - loss: 1.0530 - root_mean_squared_error: 1.0262\n",
            "Epoch 59/100\n",
            "12/12 [==============================] - 0s 2ms/step - loss: 1.3311 - root_mean_squared_error: 1.1537\n",
            "Epoch 60/100\n",
            "12/12 [==============================] - 0s 2ms/step - loss: 1.0706 - root_mean_squared_error: 1.0347\n",
            "Epoch 61/100\n",
            "12/12 [==============================] - 0s 2ms/step - loss: 1.2134 - root_mean_squared_error: 1.1015\n",
            "Epoch 62/100\n",
            "12/12 [==============================] - 0s 2ms/step - loss: 1.1792 - root_mean_squared_error: 1.0859\n",
            "Epoch 63/100\n",
            "12/12 [==============================] - 0s 3ms/step - loss: 1.2192 - root_mean_squared_error: 1.1042\n",
            "Epoch 64/100\n",
            "12/12 [==============================] - 0s 3ms/step - loss: 1.1375 - root_mean_squared_error: 1.0665\n",
            "Epoch 65/100\n",
            "12/12 [==============================] - 0s 2ms/step - loss: 0.8204 - root_mean_squared_error: 0.9057\n",
            "Epoch 66/100\n",
            "12/12 [==============================] - 0s 2ms/step - loss: 1.2706 - root_mean_squared_error: 1.1272\n",
            "Epoch 67/100\n",
            "12/12 [==============================] - 0s 2ms/step - loss: 1.2455 - root_mean_squared_error: 1.1160\n",
            "Epoch 68/100\n",
            "12/12 [==============================] - 0s 2ms/step - loss: 1.1143 - root_mean_squared_error: 1.0556\n",
            "Epoch 69/100\n",
            "12/12 [==============================] - 0s 2ms/step - loss: 1.3565 - root_mean_squared_error: 1.1647\n",
            "Epoch 70/100\n",
            "12/12 [==============================] - 0s 2ms/step - loss: 1.1742 - root_mean_squared_error: 1.0836\n",
            "Epoch 71/100\n",
            "12/12 [==============================] - 0s 2ms/step - loss: 1.1788 - root_mean_squared_error: 1.0857\n",
            "Epoch 72/100\n",
            "12/12 [==============================] - 0s 3ms/step - loss: 1.2086 - root_mean_squared_error: 1.0994\n",
            "Epoch 73/100\n",
            "12/12 [==============================] - 0s 2ms/step - loss: 1.1562 - root_mean_squared_error: 1.0753\n",
            "Epoch 74/100\n",
            "12/12 [==============================] - 0s 2ms/step - loss: 1.0984 - root_mean_squared_error: 1.0480\n",
            "Epoch 75/100\n",
            "12/12 [==============================] - 0s 2ms/step - loss: 1.1546 - root_mean_squared_error: 1.0745\n",
            "Epoch 76/100\n",
            "12/12 [==============================] - 0s 2ms/step - loss: 1.2175 - root_mean_squared_error: 1.1034\n",
            "Epoch 77/100\n",
            "12/12 [==============================] - 0s 3ms/step - loss: 1.2831 - root_mean_squared_error: 1.1327\n",
            "Epoch 78/100\n",
            "12/12 [==============================] - 0s 2ms/step - loss: 1.1062 - root_mean_squared_error: 1.0518\n",
            "Epoch 79/100\n",
            "12/12 [==============================] - 0s 2ms/step - loss: 1.0726 - root_mean_squared_error: 1.0357\n",
            "Epoch 80/100\n",
            "12/12 [==============================] - 0s 2ms/step - loss: 0.9793 - root_mean_squared_error: 0.9896\n",
            "Epoch 81/100\n",
            "12/12 [==============================] - 0s 2ms/step - loss: 1.2188 - root_mean_squared_error: 1.1040\n",
            "Epoch 82/100\n",
            "12/12 [==============================] - 0s 2ms/step - loss: 1.1672 - root_mean_squared_error: 1.0804\n",
            "Epoch 83/100\n",
            "12/12 [==============================] - 0s 2ms/step - loss: 1.0313 - root_mean_squared_error: 1.0155\n",
            "Epoch 84/100\n",
            "12/12 [==============================] - 0s 2ms/step - loss: 0.8448 - root_mean_squared_error: 0.9191\n",
            "Epoch 85/100\n",
            "12/12 [==============================] - 0s 2ms/step - loss: 1.4291 - root_mean_squared_error: 1.1954\n",
            "Epoch 86/100\n",
            "12/12 [==============================] - 0s 3ms/step - loss: 1.2043 - root_mean_squared_error: 1.0974\n",
            "Epoch 87/100\n",
            "12/12 [==============================] - 0s 2ms/step - loss: 1.0197 - root_mean_squared_error: 1.0098\n",
            "Epoch 88/100\n",
            "12/12 [==============================] - 0s 2ms/step - loss: 1.2267 - root_mean_squared_error: 1.1076\n",
            "Epoch 89/100\n",
            "12/12 [==============================] - 0s 2ms/step - loss: 1.0340 - root_mean_squared_error: 1.0169\n",
            "Epoch 90/100\n",
            "12/12 [==============================] - 0s 3ms/step - loss: 1.2374 - root_mean_squared_error: 1.1124\n",
            "Epoch 91/100\n",
            "12/12 [==============================] - 0s 2ms/step - loss: 1.1894 - root_mean_squared_error: 1.0906\n",
            "Epoch 92/100\n",
            "12/12 [==============================] - 0s 2ms/step - loss: 1.1779 - root_mean_squared_error: 1.0853\n",
            "Epoch 93/100\n",
            "12/12 [==============================] - 0s 2ms/step - loss: 1.1807 - root_mean_squared_error: 1.0866\n",
            "Epoch 94/100\n",
            "12/12 [==============================] - 0s 2ms/step - loss: 1.0126 - root_mean_squared_error: 1.0063\n",
            "Epoch 95/100\n",
            "12/12 [==============================] - 0s 2ms/step - loss: 1.3158 - root_mean_squared_error: 1.1471\n",
            "Epoch 96/100\n",
            "12/12 [==============================] - 0s 2ms/step - loss: 1.2051 - root_mean_squared_error: 1.0978\n",
            "Epoch 97/100\n",
            "12/12 [==============================] - 0s 2ms/step - loss: 1.0979 - root_mean_squared_error: 1.0478\n",
            "Epoch 98/100\n",
            "12/12 [==============================] - 0s 2ms/step - loss: 1.0443 - root_mean_squared_error: 1.0219\n",
            "Epoch 99/100\n",
            "12/12 [==============================] - 0s 2ms/step - loss: 1.2293 - root_mean_squared_error: 1.1087\n",
            "Epoch 100/100\n",
            "12/12 [==============================] - 0s 3ms/step - loss: 1.0724 - root_mean_squared_error: 1.0356\n"
          ]
        },
        {
          "output_type": "stream",
          "name": "stderr",
          "text": [
            "/usr/local/lib/python3.10/dist-packages/numpy/core/shape_base.py:65: VisibleDeprecationWarning: Creating an ndarray from ragged nested sequences (which is a list-or-tuple of lists-or-tuples-or ndarrays with different lengths or shapes) is deprecated. If you meant to do this, you must specify 'dtype=object' when creating the ndarray.\n",
            "  ary = asanyarray(ary)\n"
          ]
        },
        {
          "output_type": "display_data",
          "data": {
            "text/plain": [
              "<Figure size 640x480 with 1 Axes>"
            ],
            "image/png": "[encoded data removed]"
          },
          "metadata": {}
        },
        {
          "output_type": "display_data",
          "data": {
            "text/plain": [
              "<Figure size 640x480 with 1 Axes>"
            ],
            "image/png": "[encoded data removed]"
          },
          "metadata": {}
        }
      ]
    }
  ],
  "metadata": {
    "colab": {
      "provenance": [],
      "authorship_tag": "ABX9TyNHS8IYPvSMtLlxaDFf8gv0",
      "include_colab_link": true
    },
    "kernelspec": {
      "display_name": "Python 3",
      "name": "python3"
    },
    "language_info": {
      "name": "python"
    }
  },
  "nbformat": 4,
  "nbformat_minor": 0
}